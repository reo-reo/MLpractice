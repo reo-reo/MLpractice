{
  "nbformat": 4,
  "nbformat_minor": 0,
  "metadata": {
    "colab": {
      "name": "knock21-30.ipynb",
      "provenance": [],
      "collapsed_sections": []
    },
    "kernelspec": {
      "name": "python3",
      "display_name": "Python 3"
    },
    "language_info": {
      "name": "python"
    }
  },
  "cells": [
    {
      "cell_type": "code",
      "metadata": {
        "colab": {
          "base_uri": "https://localhost:8080/"
        },
        "id": "eQz5PgDumsUN",
        "outputId": "587d7d2f-52b8-4ca8-a9d9-8dc46d7a67c0"
      },
      "source": [
        "from google.colab import drive\n",
        "\n",
        "drive.mount('/content/drive')"
      ],
      "execution_count": 43,
      "outputs": [
        {
          "output_type": "stream",
          "text": [
            "Drive already mounted at /content/drive; to attempt to forcibly remount, call drive.mount(\"/content/drive\", force_remount=True).\n"
          ],
          "name": "stdout"
        }
      ]
    },
    {
      "cell_type": "code",
      "metadata": {
        "colab": {
          "base_uri": "https://localhost:8080/",
          "height": 221
        },
        "id": "2Ow46bzYalRu",
        "outputId": "8be35507-e76b-4b52-9e63-905a232dfca8"
      },
      "source": [
        "import pandas as pd\n",
        "#データの確認\n",
        "uselog = pd.read_csv(\"/content/drive/MyDrive/knock100/ch3/use_log.csv\")\n",
        "print(len(uselog))\n",
        "uselog.head()"
      ],
      "execution_count": 44,
      "outputs": [
        {
          "output_type": "stream",
          "text": [
            "197428\n"
          ],
          "name": "stdout"
        },
        {
          "output_type": "execute_result",
          "data": {
            "text/html": [
              "<div>\n",
              "<style scoped>\n",
              "    .dataframe tbody tr th:only-of-type {\n",
              "        vertical-align: middle;\n",
              "    }\n",
              "\n",
              "    .dataframe tbody tr th {\n",
              "        vertical-align: top;\n",
              "    }\n",
              "\n",
              "    .dataframe thead th {\n",
              "        text-align: right;\n",
              "    }\n",
              "</style>\n",
              "<table border=\"1\" class=\"dataframe\">\n",
              "  <thead>\n",
              "    <tr style=\"text-align: right;\">\n",
              "      <th></th>\n",
              "      <th>log_id</th>\n",
              "      <th>customer_id</th>\n",
              "      <th>usedate</th>\n",
              "    </tr>\n",
              "  </thead>\n",
              "  <tbody>\n",
              "    <tr>\n",
              "      <th>0</th>\n",
              "      <td>L00000049012330</td>\n",
              "      <td>AS009373</td>\n",
              "      <td>2018-04-01</td>\n",
              "    </tr>\n",
              "    <tr>\n",
              "      <th>1</th>\n",
              "      <td>L00000049012331</td>\n",
              "      <td>AS015315</td>\n",
              "      <td>2018-04-01</td>\n",
              "    </tr>\n",
              "    <tr>\n",
              "      <th>2</th>\n",
              "      <td>L00000049012332</td>\n",
              "      <td>AS040841</td>\n",
              "      <td>2018-04-01</td>\n",
              "    </tr>\n",
              "    <tr>\n",
              "      <th>3</th>\n",
              "      <td>L00000049012333</td>\n",
              "      <td>AS046594</td>\n",
              "      <td>2018-04-01</td>\n",
              "    </tr>\n",
              "    <tr>\n",
              "      <th>4</th>\n",
              "      <td>L00000049012334</td>\n",
              "      <td>AS073285</td>\n",
              "      <td>2018-04-01</td>\n",
              "    </tr>\n",
              "  </tbody>\n",
              "</table>\n",
              "</div>"
            ],
            "text/plain": [
              "            log_id customer_id     usedate\n",
              "0  L00000049012330    AS009373  2018-04-01\n",
              "1  L00000049012331    AS015315  2018-04-01\n",
              "2  L00000049012332    AS040841  2018-04-01\n",
              "3  L00000049012333    AS046594  2018-04-01\n",
              "4  L00000049012334    AS073285  2018-04-01"
            ]
          },
          "metadata": {},
          "execution_count": 44
        }
      ]
    },
    {
      "cell_type": "code",
      "metadata": {
        "colab": {
          "base_uri": "https://localhost:8080/",
          "height": 221
        },
        "id": "lLPyC9Yba6eW",
        "outputId": "161e99b0-0b81-4b57-e316-a47ed01dd607"
      },
      "source": [
        "customer=pd.read_csv(\"/content/drive/MyDrive/knock100/ch3/customer_master.csv\")\n",
        "print(len(customer))\n",
        "customer.head()"
      ],
      "execution_count": 45,
      "outputs": [
        {
          "output_type": "stream",
          "text": [
            "4192\n"
          ],
          "name": "stdout"
        },
        {
          "output_type": "execute_result",
          "data": {
            "text/html": [
              "<div>\n",
              "<style scoped>\n",
              "    .dataframe tbody tr th:only-of-type {\n",
              "        vertical-align: middle;\n",
              "    }\n",
              "\n",
              "    .dataframe tbody tr th {\n",
              "        vertical-align: top;\n",
              "    }\n",
              "\n",
              "    .dataframe thead th {\n",
              "        text-align: right;\n",
              "    }\n",
              "</style>\n",
              "<table border=\"1\" class=\"dataframe\">\n",
              "  <thead>\n",
              "    <tr style=\"text-align: right;\">\n",
              "      <th></th>\n",
              "      <th>customer_id</th>\n",
              "      <th>name</th>\n",
              "      <th>class</th>\n",
              "      <th>gender</th>\n",
              "      <th>start_date</th>\n",
              "      <th>end_date</th>\n",
              "      <th>campaign_id</th>\n",
              "      <th>is_deleted</th>\n",
              "    </tr>\n",
              "  </thead>\n",
              "  <tbody>\n",
              "    <tr>\n",
              "      <th>0</th>\n",
              "      <td>OA832399</td>\n",
              "      <td>XXXX</td>\n",
              "      <td>C01</td>\n",
              "      <td>F</td>\n",
              "      <td>2015-05-01 00:00:00</td>\n",
              "      <td>NaN</td>\n",
              "      <td>CA1</td>\n",
              "      <td>0</td>\n",
              "    </tr>\n",
              "    <tr>\n",
              "      <th>1</th>\n",
              "      <td>PL270116</td>\n",
              "      <td>XXXXX</td>\n",
              "      <td>C01</td>\n",
              "      <td>M</td>\n",
              "      <td>2015-05-01 00:00:00</td>\n",
              "      <td>NaN</td>\n",
              "      <td>CA1</td>\n",
              "      <td>0</td>\n",
              "    </tr>\n",
              "    <tr>\n",
              "      <th>2</th>\n",
              "      <td>OA974876</td>\n",
              "      <td>XXXXX</td>\n",
              "      <td>C01</td>\n",
              "      <td>M</td>\n",
              "      <td>2015-05-01 00:00:00</td>\n",
              "      <td>NaN</td>\n",
              "      <td>CA1</td>\n",
              "      <td>0</td>\n",
              "    </tr>\n",
              "    <tr>\n",
              "      <th>3</th>\n",
              "      <td>HD024127</td>\n",
              "      <td>XXXXX</td>\n",
              "      <td>C01</td>\n",
              "      <td>F</td>\n",
              "      <td>2015-05-01 00:00:00</td>\n",
              "      <td>NaN</td>\n",
              "      <td>CA1</td>\n",
              "      <td>0</td>\n",
              "    </tr>\n",
              "    <tr>\n",
              "      <th>4</th>\n",
              "      <td>HD661448</td>\n",
              "      <td>XXXXX</td>\n",
              "      <td>C03</td>\n",
              "      <td>F</td>\n",
              "      <td>2015-05-01 00:00:00</td>\n",
              "      <td>NaN</td>\n",
              "      <td>CA1</td>\n",
              "      <td>0</td>\n",
              "    </tr>\n",
              "  </tbody>\n",
              "</table>\n",
              "</div>"
            ],
            "text/plain": [
              "  customer_id   name class  ... end_date campaign_id is_deleted\n",
              "0    OA832399   XXXX   C01  ...      NaN         CA1          0\n",
              "1    PL270116  XXXXX   C01  ...      NaN         CA1          0\n",
              "2    OA974876  XXXXX   C01  ...      NaN         CA1          0\n",
              "3    HD024127  XXXXX   C01  ...      NaN         CA1          0\n",
              "4    HD661448  XXXXX   C03  ...      NaN         CA1          0\n",
              "\n",
              "[5 rows x 8 columns]"
            ]
          },
          "metadata": {},
          "execution_count": 45
        }
      ]
    },
    {
      "cell_type": "code",
      "metadata": {
        "colab": {
          "base_uri": "https://localhost:8080/",
          "height": 159
        },
        "id": "N15LlTs1bsk7",
        "outputId": "a11821cc-0c3f-4bcb-c49e-56537b93bf45"
      },
      "source": [
        "class_master=pd.read_csv(\"/content/drive/MyDrive/knock100/ch3/class_master.csv\")\n",
        "print(len(class_master))\n",
        "class_master.head()"
      ],
      "execution_count": 46,
      "outputs": [
        {
          "output_type": "stream",
          "text": [
            "3\n"
          ],
          "name": "stdout"
        },
        {
          "output_type": "execute_result",
          "data": {
            "text/html": [
              "<div>\n",
              "<style scoped>\n",
              "    .dataframe tbody tr th:only-of-type {\n",
              "        vertical-align: middle;\n",
              "    }\n",
              "\n",
              "    .dataframe tbody tr th {\n",
              "        vertical-align: top;\n",
              "    }\n",
              "\n",
              "    .dataframe thead th {\n",
              "        text-align: right;\n",
              "    }\n",
              "</style>\n",
              "<table border=\"1\" class=\"dataframe\">\n",
              "  <thead>\n",
              "    <tr style=\"text-align: right;\">\n",
              "      <th></th>\n",
              "      <th>class</th>\n",
              "      <th>class_name</th>\n",
              "      <th>price</th>\n",
              "    </tr>\n",
              "  </thead>\n",
              "  <tbody>\n",
              "    <tr>\n",
              "      <th>0</th>\n",
              "      <td>C01</td>\n",
              "      <td>オールタイム</td>\n",
              "      <td>10500</td>\n",
              "    </tr>\n",
              "    <tr>\n",
              "      <th>1</th>\n",
              "      <td>C02</td>\n",
              "      <td>デイタイム</td>\n",
              "      <td>7500</td>\n",
              "    </tr>\n",
              "    <tr>\n",
              "      <th>2</th>\n",
              "      <td>C03</td>\n",
              "      <td>ナイト</td>\n",
              "      <td>6000</td>\n",
              "    </tr>\n",
              "  </tbody>\n",
              "</table>\n",
              "</div>"
            ],
            "text/plain": [
              "  class class_name  price\n",
              "0   C01     オールタイム  10500\n",
              "1   C02      デイタイム   7500\n",
              "2   C03        ナイト   6000"
            ]
          },
          "metadata": {},
          "execution_count": 46
        }
      ]
    },
    {
      "cell_type": "code",
      "metadata": {
        "colab": {
          "base_uri": "https://localhost:8080/",
          "height": 159
        },
        "id": "WxzxMwp8dgxA",
        "outputId": "bade6365-a99a-474a-9785-dd1eeaf0c559"
      },
      "source": [
        "campaign_master=pd.read_csv(\"/content/drive/MyDrive/knock100/ch3/campaign_master.csv\")\n",
        "print(len(campaign_master))\n",
        "campaign_master.head()"
      ],
      "execution_count": 47,
      "outputs": [
        {
          "output_type": "stream",
          "text": [
            "3\n"
          ],
          "name": "stdout"
        },
        {
          "output_type": "execute_result",
          "data": {
            "text/html": [
              "<div>\n",
              "<style scoped>\n",
              "    .dataframe tbody tr th:only-of-type {\n",
              "        vertical-align: middle;\n",
              "    }\n",
              "\n",
              "    .dataframe tbody tr th {\n",
              "        vertical-align: top;\n",
              "    }\n",
              "\n",
              "    .dataframe thead th {\n",
              "        text-align: right;\n",
              "    }\n",
              "</style>\n",
              "<table border=\"1\" class=\"dataframe\">\n",
              "  <thead>\n",
              "    <tr style=\"text-align: right;\">\n",
              "      <th></th>\n",
              "      <th>campaign_id</th>\n",
              "      <th>campaign_name</th>\n",
              "    </tr>\n",
              "  </thead>\n",
              "  <tbody>\n",
              "    <tr>\n",
              "      <th>0</th>\n",
              "      <td>CA1</td>\n",
              "      <td>通常</td>\n",
              "    </tr>\n",
              "    <tr>\n",
              "      <th>1</th>\n",
              "      <td>CA2</td>\n",
              "      <td>入会費半額</td>\n",
              "    </tr>\n",
              "    <tr>\n",
              "      <th>2</th>\n",
              "      <td>CA3</td>\n",
              "      <td>入会費無料</td>\n",
              "    </tr>\n",
              "  </tbody>\n",
              "</table>\n",
              "</div>"
            ],
            "text/plain": [
              "  campaign_id campaign_name\n",
              "0         CA1            通常\n",
              "1         CA2         入会費半額\n",
              "2         CA3         入会費無料"
            ]
          },
          "metadata": {},
          "execution_count": 47
        }
      ]
    },
    {
      "cell_type": "code",
      "metadata": {
        "colab": {
          "base_uri": "https://localhost:8080/",
          "height": 204
        },
        "id": "Abzy_ZkId1wE",
        "outputId": "fd8c2dbe-a729-4e1a-cd0f-a4e4f70eac8b"
      },
      "source": [
        "#顧客データの整形\n",
        "customer_join=pd.merge(customer,class_master,on=\"class\",how=\"left\")\n",
        "customer_join=pd.merge(customer_join,campaign_master,on=\"campaign_id\",how=\"left\")\n",
        "customer_join.head()"
      ],
      "execution_count": 48,
      "outputs": [
        {
          "output_type": "execute_result",
          "data": {
            "text/html": [
              "<div>\n",
              "<style scoped>\n",
              "    .dataframe tbody tr th:only-of-type {\n",
              "        vertical-align: middle;\n",
              "    }\n",
              "\n",
              "    .dataframe tbody tr th {\n",
              "        vertical-align: top;\n",
              "    }\n",
              "\n",
              "    .dataframe thead th {\n",
              "        text-align: right;\n",
              "    }\n",
              "</style>\n",
              "<table border=\"1\" class=\"dataframe\">\n",
              "  <thead>\n",
              "    <tr style=\"text-align: right;\">\n",
              "      <th></th>\n",
              "      <th>customer_id</th>\n",
              "      <th>name</th>\n",
              "      <th>class</th>\n",
              "      <th>gender</th>\n",
              "      <th>start_date</th>\n",
              "      <th>end_date</th>\n",
              "      <th>campaign_id</th>\n",
              "      <th>is_deleted</th>\n",
              "      <th>class_name</th>\n",
              "      <th>price</th>\n",
              "      <th>campaign_name</th>\n",
              "    </tr>\n",
              "  </thead>\n",
              "  <tbody>\n",
              "    <tr>\n",
              "      <th>0</th>\n",
              "      <td>OA832399</td>\n",
              "      <td>XXXX</td>\n",
              "      <td>C01</td>\n",
              "      <td>F</td>\n",
              "      <td>2015-05-01 00:00:00</td>\n",
              "      <td>NaN</td>\n",
              "      <td>CA1</td>\n",
              "      <td>0</td>\n",
              "      <td>オールタイム</td>\n",
              "      <td>10500</td>\n",
              "      <td>通常</td>\n",
              "    </tr>\n",
              "    <tr>\n",
              "      <th>1</th>\n",
              "      <td>PL270116</td>\n",
              "      <td>XXXXX</td>\n",
              "      <td>C01</td>\n",
              "      <td>M</td>\n",
              "      <td>2015-05-01 00:00:00</td>\n",
              "      <td>NaN</td>\n",
              "      <td>CA1</td>\n",
              "      <td>0</td>\n",
              "      <td>オールタイム</td>\n",
              "      <td>10500</td>\n",
              "      <td>通常</td>\n",
              "    </tr>\n",
              "    <tr>\n",
              "      <th>2</th>\n",
              "      <td>OA974876</td>\n",
              "      <td>XXXXX</td>\n",
              "      <td>C01</td>\n",
              "      <td>M</td>\n",
              "      <td>2015-05-01 00:00:00</td>\n",
              "      <td>NaN</td>\n",
              "      <td>CA1</td>\n",
              "      <td>0</td>\n",
              "      <td>オールタイム</td>\n",
              "      <td>10500</td>\n",
              "      <td>通常</td>\n",
              "    </tr>\n",
              "    <tr>\n",
              "      <th>3</th>\n",
              "      <td>HD024127</td>\n",
              "      <td>XXXXX</td>\n",
              "      <td>C01</td>\n",
              "      <td>F</td>\n",
              "      <td>2015-05-01 00:00:00</td>\n",
              "      <td>NaN</td>\n",
              "      <td>CA1</td>\n",
              "      <td>0</td>\n",
              "      <td>オールタイム</td>\n",
              "      <td>10500</td>\n",
              "      <td>通常</td>\n",
              "    </tr>\n",
              "    <tr>\n",
              "      <th>4</th>\n",
              "      <td>HD661448</td>\n",
              "      <td>XXXXX</td>\n",
              "      <td>C03</td>\n",
              "      <td>F</td>\n",
              "      <td>2015-05-01 00:00:00</td>\n",
              "      <td>NaN</td>\n",
              "      <td>CA1</td>\n",
              "      <td>0</td>\n",
              "      <td>ナイト</td>\n",
              "      <td>6000</td>\n",
              "      <td>通常</td>\n",
              "    </tr>\n",
              "  </tbody>\n",
              "</table>\n",
              "</div>"
            ],
            "text/plain": [
              "  customer_id   name class gender  ... is_deleted class_name  price  campaign_name\n",
              "0    OA832399   XXXX   C01      F  ...          0     オールタイム  10500             通常\n",
              "1    PL270116  XXXXX   C01      M  ...          0     オールタイム  10500             通常\n",
              "2    OA974876  XXXXX   C01      M  ...          0     オールタイム  10500             通常\n",
              "3    HD024127  XXXXX   C01      F  ...          0     オールタイム  10500             通常\n",
              "4    HD661448  XXXXX   C03      F  ...          0        ナイト   6000             通常\n",
              "\n",
              "[5 rows x 11 columns]"
            ]
          },
          "metadata": {},
          "execution_count": 48
        }
      ]
    },
    {
      "cell_type": "code",
      "metadata": {
        "colab": {
          "base_uri": "https://localhost:8080/"
        },
        "id": "0j4jejWih-CB",
        "outputId": "d74bc84f-37b4-4c46-ee5c-f702b4aa5cc3"
      },
      "source": [
        "#欠損値の確認\n",
        "customer_join.isnull().sum()"
      ],
      "execution_count": 49,
      "outputs": [
        {
          "output_type": "execute_result",
          "data": {
            "text/plain": [
              "customer_id         0\n",
              "name                0\n",
              "class               0\n",
              "gender              0\n",
              "start_date          0\n",
              "end_date         2842\n",
              "campaign_id         0\n",
              "is_deleted          0\n",
              "class_name          0\n",
              "price               0\n",
              "campaign_name       0\n",
              "dtype: int64"
            ]
          },
          "metadata": {},
          "execution_count": 49
        }
      ]
    },
    {
      "cell_type": "code",
      "metadata": {
        "colab": {
          "base_uri": "https://localhost:8080/"
        },
        "id": "Gjb1rHtJiTBa",
        "outputId": "1b47972e-b607-4594-856b-773e2d10b483"
      },
      "source": [
        "#顧客データの基礎集計\n",
        "customer_join.groupby(\"class_name\").count()[\"customer_id\"]"
      ],
      "execution_count": 50,
      "outputs": [
        {
          "output_type": "execute_result",
          "data": {
            "text/plain": [
              "class_name\n",
              "オールタイム    2045\n",
              "デイタイム     1019\n",
              "ナイト       1128\n",
              "Name: customer_id, dtype: int64"
            ]
          },
          "metadata": {},
          "execution_count": 50
        }
      ]
    },
    {
      "cell_type": "code",
      "metadata": {
        "colab": {
          "base_uri": "https://localhost:8080/"
        },
        "id": "-MJUuAeci8kA",
        "outputId": "b11ed439-3b0b-4874-ff97-3d065ecdb554"
      },
      "source": [
        "customer_join.groupby(\"campaign_name\").count()[\"customer_id\"]"
      ],
      "execution_count": 51,
      "outputs": [
        {
          "output_type": "execute_result",
          "data": {
            "text/plain": [
              "campaign_name\n",
              "入会費半額     650\n",
              "入会費無料     492\n",
              "通常       3050\n",
              "Name: customer_id, dtype: int64"
            ]
          },
          "metadata": {},
          "execution_count": 51
        }
      ]
    },
    {
      "cell_type": "code",
      "metadata": {
        "colab": {
          "base_uri": "https://localhost:8080/"
        },
        "id": "aO_2g4bpjgUB",
        "outputId": "31bea961-6335-4e76-c691-67951cef4d27"
      },
      "source": [
        "customer_join.groupby(\"gender\").count()[\"customer_id\"]"
      ],
      "execution_count": 52,
      "outputs": [
        {
          "output_type": "execute_result",
          "data": {
            "text/plain": [
              "gender\n",
              "F    1983\n",
              "M    2209\n",
              "Name: customer_id, dtype: int64"
            ]
          },
          "metadata": {},
          "execution_count": 52
        }
      ]
    },
    {
      "cell_type": "code",
      "metadata": {
        "colab": {
          "base_uri": "https://localhost:8080/"
        },
        "id": "-lrHvPk2j19u",
        "outputId": "877b1b3c-6738-45ef-9505-9c17b3e980c4"
      },
      "source": [
        "customer_join.groupby(\"is_deleted\").count()[\"customer_id\"]"
      ],
      "execution_count": 53,
      "outputs": [
        {
          "output_type": "execute_result",
          "data": {
            "text/plain": [
              "is_deleted\n",
              "0    2842\n",
              "1    1350\n",
              "Name: customer_id, dtype: int64"
            ]
          },
          "metadata": {},
          "execution_count": 53
        }
      ]
    },
    {
      "cell_type": "code",
      "metadata": {
        "colab": {
          "base_uri": "https://localhost:8080/"
        },
        "id": "svIplL9OkBTy",
        "outputId": "4c380bdd-a7a3-4881-c9b2-4e3fbd2d341e"
      },
      "source": [
        "#入会人数の集計\n",
        "customer_join[\"start_date\"]=pd.to_datetime(customer_join[\"start_date\"])\n",
        "customer_start=customer_join.loc[customer_join[\"start_date\"] > pd.to_datetime(\"20180401\")]\n",
        "print(len(customer_start))"
      ],
      "execution_count": 54,
      "outputs": [
        {
          "output_type": "stream",
          "text": [
            "1361\n"
          ],
          "name": "stdout"
        }
      ]
    },
    {
      "cell_type": "code",
      "metadata": {
        "colab": {
          "base_uri": "https://localhost:8080/"
        },
        "id": "LoyB8flDk7XN",
        "outputId": "2e2029e4-7a47-45a7-8d72-5e6d3997740d"
      },
      "source": [
        "#最新顧客データの基礎集計\n",
        "customer_join[\"end_date\"]=pd.to_datetime(customer_join[\"end_date\"])\n",
        "customer_newer=customer_join.loc[(customer_join[\"end_date\"] >= pd.to_datetime(\"20190331\")) | (customer_join[\"end_date\"].isna())]\n",
        "print(len(customer_newer))\n",
        "customer_newer[\"end_date\"].unique()"
      ],
      "execution_count": 55,
      "outputs": [
        {
          "output_type": "stream",
          "text": [
            "2953\n"
          ],
          "name": "stdout"
        },
        {
          "output_type": "execute_result",
          "data": {
            "text/plain": [
              "array([                          'NaT', '2019-03-31T00:00:00.000000000'],\n",
              "      dtype='datetime64[ns]')"
            ]
          },
          "metadata": {},
          "execution_count": 55
        }
      ]
    },
    {
      "cell_type": "code",
      "metadata": {
        "colab": {
          "base_uri": "https://localhost:8080/"
        },
        "id": "D-YYWiYNtfku",
        "outputId": "8a54eaf8-a07c-4a13-c9bd-66f401249975"
      },
      "source": [
        "customer_newer.groupby(\"class_name\").count()[\"customer_id\"]"
      ],
      "execution_count": 56,
      "outputs": [
        {
          "output_type": "execute_result",
          "data": {
            "text/plain": [
              "class_name\n",
              "オールタイム    1444\n",
              "デイタイム      696\n",
              "ナイト        813\n",
              "Name: customer_id, dtype: int64"
            ]
          },
          "metadata": {},
          "execution_count": 56
        }
      ]
    },
    {
      "cell_type": "code",
      "metadata": {
        "colab": {
          "base_uri": "https://localhost:8080/"
        },
        "id": "banKTUpFvj23",
        "outputId": "d7c0f165-d230-4b01-f908-434d7e7961a5"
      },
      "source": [
        "customer_newer.groupby(\"campaign_name\").count()[\"customer_id\"]"
      ],
      "execution_count": 57,
      "outputs": [
        {
          "output_type": "execute_result",
          "data": {
            "text/plain": [
              "campaign_name\n",
              "入会費半額     311\n",
              "入会費無料     242\n",
              "通常       2400\n",
              "Name: customer_id, dtype: int64"
            ]
          },
          "metadata": {},
          "execution_count": 57
        }
      ]
    },
    {
      "cell_type": "code",
      "metadata": {
        "colab": {
          "base_uri": "https://localhost:8080/"
        },
        "id": "Mu9zHxD1v1Ud",
        "outputId": "558f4b08-9199-4451-82c1-3a1eca2e3ee1"
      },
      "source": [
        "customer_newer.groupby(\"gender\").count()[\"customer_id\"]"
      ],
      "execution_count": 58,
      "outputs": [
        {
          "output_type": "execute_result",
          "data": {
            "text/plain": [
              "gender\n",
              "F    1400\n",
              "M    1553\n",
              "Name: customer_id, dtype: int64"
            ]
          },
          "metadata": {},
          "execution_count": 58
        }
      ]
    },
    {
      "cell_type": "code",
      "metadata": {
        "colab": {
          "base_uri": "https://localhost:8080/",
          "height": 204
        },
        "id": "MePBuWRHxsm8",
        "outputId": "795ad50f-0dea-4a6e-edd8-2a5e5f1b81ba"
      },
      "source": [
        "#利用履歴データの集計\n",
        "uselog[\"usedate\"]=pd.to_datetime(uselog[\"usedate\"])\n",
        "uselog[\"年月\"]=uselog[\"usedate\"].dt.strftime(\"%Y%m\")\n",
        "uselog_months=uselog.groupby([\"年月\",\"customer_id\"],as_index=False).count()\n",
        "uselog_months.rename(columns={\"log_id\":\"count\"},inplace=True)\n",
        "del uselog_months[\"usedate\"]\n",
        "uselog_months.head()"
      ],
      "execution_count": 59,
      "outputs": [
        {
          "output_type": "execute_result",
          "data": {
            "text/html": [
              "<div>\n",
              "<style scoped>\n",
              "    .dataframe tbody tr th:only-of-type {\n",
              "        vertical-align: middle;\n",
              "    }\n",
              "\n",
              "    .dataframe tbody tr th {\n",
              "        vertical-align: top;\n",
              "    }\n",
              "\n",
              "    .dataframe thead th {\n",
              "        text-align: right;\n",
              "    }\n",
              "</style>\n",
              "<table border=\"1\" class=\"dataframe\">\n",
              "  <thead>\n",
              "    <tr style=\"text-align: right;\">\n",
              "      <th></th>\n",
              "      <th>年月</th>\n",
              "      <th>customer_id</th>\n",
              "      <th>count</th>\n",
              "    </tr>\n",
              "  </thead>\n",
              "  <tbody>\n",
              "    <tr>\n",
              "      <th>0</th>\n",
              "      <td>201804</td>\n",
              "      <td>AS002855</td>\n",
              "      <td>4</td>\n",
              "    </tr>\n",
              "    <tr>\n",
              "      <th>1</th>\n",
              "      <td>201804</td>\n",
              "      <td>AS009013</td>\n",
              "      <td>2</td>\n",
              "    </tr>\n",
              "    <tr>\n",
              "      <th>2</th>\n",
              "      <td>201804</td>\n",
              "      <td>AS009373</td>\n",
              "      <td>3</td>\n",
              "    </tr>\n",
              "    <tr>\n",
              "      <th>3</th>\n",
              "      <td>201804</td>\n",
              "      <td>AS015315</td>\n",
              "      <td>6</td>\n",
              "    </tr>\n",
              "    <tr>\n",
              "      <th>4</th>\n",
              "      <td>201804</td>\n",
              "      <td>AS015739</td>\n",
              "      <td>7</td>\n",
              "    </tr>\n",
              "  </tbody>\n",
              "</table>\n",
              "</div>"
            ],
            "text/plain": [
              "       年月 customer_id  count\n",
              "0  201804    AS002855      4\n",
              "1  201804    AS009013      2\n",
              "2  201804    AS009373      3\n",
              "3  201804    AS015315      6\n",
              "4  201804    AS015739      7"
            ]
          },
          "metadata": {},
          "execution_count": 59
        }
      ]
    },
    {
      "cell_type": "code",
      "metadata": {
        "colab": {
          "base_uri": "https://localhost:8080/",
          "height": 204
        },
        "id": "VYQTtHwV_W6J",
        "outputId": "7f862553-88e3-4b76-96a6-f95a5f3a6964"
      },
      "source": [
        "uselog_customer=uselog_months.groupby(\"customer_id\").agg([\"mean\",\"median\",\"max\",\"min\"])[\"count\"]\n",
        "uselog_customer=uselog_customer.reset_index(drop=False)\n",
        "uselog_customer.head()"
      ],
      "execution_count": 60,
      "outputs": [
        {
          "output_type": "execute_result",
          "data": {
            "text/html": [
              "<div>\n",
              "<style scoped>\n",
              "    .dataframe tbody tr th:only-of-type {\n",
              "        vertical-align: middle;\n",
              "    }\n",
              "\n",
              "    .dataframe tbody tr th {\n",
              "        vertical-align: top;\n",
              "    }\n",
              "\n",
              "    .dataframe thead th {\n",
              "        text-align: right;\n",
              "    }\n",
              "</style>\n",
              "<table border=\"1\" class=\"dataframe\">\n",
              "  <thead>\n",
              "    <tr style=\"text-align: right;\">\n",
              "      <th></th>\n",
              "      <th>customer_id</th>\n",
              "      <th>mean</th>\n",
              "      <th>median</th>\n",
              "      <th>max</th>\n",
              "      <th>min</th>\n",
              "    </tr>\n",
              "  </thead>\n",
              "  <tbody>\n",
              "    <tr>\n",
              "      <th>0</th>\n",
              "      <td>AS002855</td>\n",
              "      <td>4.500000</td>\n",
              "      <td>5.0</td>\n",
              "      <td>7</td>\n",
              "      <td>2</td>\n",
              "    </tr>\n",
              "    <tr>\n",
              "      <th>1</th>\n",
              "      <td>AS008805</td>\n",
              "      <td>4.000000</td>\n",
              "      <td>4.0</td>\n",
              "      <td>8</td>\n",
              "      <td>1</td>\n",
              "    </tr>\n",
              "    <tr>\n",
              "      <th>2</th>\n",
              "      <td>AS009013</td>\n",
              "      <td>2.000000</td>\n",
              "      <td>2.0</td>\n",
              "      <td>2</td>\n",
              "      <td>2</td>\n",
              "    </tr>\n",
              "    <tr>\n",
              "      <th>3</th>\n",
              "      <td>AS009373</td>\n",
              "      <td>5.083333</td>\n",
              "      <td>5.0</td>\n",
              "      <td>7</td>\n",
              "      <td>3</td>\n",
              "    </tr>\n",
              "    <tr>\n",
              "      <th>4</th>\n",
              "      <td>AS015233</td>\n",
              "      <td>7.545455</td>\n",
              "      <td>7.0</td>\n",
              "      <td>11</td>\n",
              "      <td>4</td>\n",
              "    </tr>\n",
              "  </tbody>\n",
              "</table>\n",
              "</div>"
            ],
            "text/plain": [
              "  customer_id      mean  median  max  min\n",
              "0    AS002855  4.500000     5.0    7    2\n",
              "1    AS008805  4.000000     4.0    8    1\n",
              "2    AS009013  2.000000     2.0    2    2\n",
              "3    AS009373  5.083333     5.0    7    3\n",
              "4    AS015233  7.545455     7.0   11    4"
            ]
          },
          "metadata": {},
          "execution_count": 60
        }
      ]
    },
    {
      "cell_type": "code",
      "metadata": {
        "colab": {
          "base_uri": "https://localhost:8080/",
          "height": 204
        },
        "id": "D7XyAIJE_KEZ",
        "outputId": "3f66a9d3-a0d8-4531-c785-eb320288ce45"
      },
      "source": [
        "#利用履歴データから定期利用フラグを作成する\n",
        "#顧客ごとに月/曜日別に集計する\n",
        "uselog[\"weekday\"]=uselog[\"usedate\"].dt.weekday #曜日を0-6に置換\n",
        "uselog_weekday=uselog.groupby([\"customer_id\",\"年月\",\"weekday\"],as_index=False).count()[[\"customer_id\",\"年月\",\"weekday\",\"log_id\"]]\n",
        "uselog_weekday.rename(columns={\"log_id\":\"count\"},inplace=True)\n",
        "uselog_weekday.head()"
      ],
      "execution_count": 61,
      "outputs": [
        {
          "output_type": "execute_result",
          "data": {
            "text/html": [
              "<div>\n",
              "<style scoped>\n",
              "    .dataframe tbody tr th:only-of-type {\n",
              "        vertical-align: middle;\n",
              "    }\n",
              "\n",
              "    .dataframe tbody tr th {\n",
              "        vertical-align: top;\n",
              "    }\n",
              "\n",
              "    .dataframe thead th {\n",
              "        text-align: right;\n",
              "    }\n",
              "</style>\n",
              "<table border=\"1\" class=\"dataframe\">\n",
              "  <thead>\n",
              "    <tr style=\"text-align: right;\">\n",
              "      <th></th>\n",
              "      <th>customer_id</th>\n",
              "      <th>年月</th>\n",
              "      <th>weekday</th>\n",
              "      <th>count</th>\n",
              "    </tr>\n",
              "  </thead>\n",
              "  <tbody>\n",
              "    <tr>\n",
              "      <th>0</th>\n",
              "      <td>AS002855</td>\n",
              "      <td>201804</td>\n",
              "      <td>5</td>\n",
              "      <td>4</td>\n",
              "    </tr>\n",
              "    <tr>\n",
              "      <th>1</th>\n",
              "      <td>AS002855</td>\n",
              "      <td>201805</td>\n",
              "      <td>2</td>\n",
              "      <td>1</td>\n",
              "    </tr>\n",
              "    <tr>\n",
              "      <th>2</th>\n",
              "      <td>AS002855</td>\n",
              "      <td>201805</td>\n",
              "      <td>5</td>\n",
              "      <td>4</td>\n",
              "    </tr>\n",
              "    <tr>\n",
              "      <th>3</th>\n",
              "      <td>AS002855</td>\n",
              "      <td>201806</td>\n",
              "      <td>5</td>\n",
              "      <td>5</td>\n",
              "    </tr>\n",
              "    <tr>\n",
              "      <th>4</th>\n",
              "      <td>AS002855</td>\n",
              "      <td>201807</td>\n",
              "      <td>1</td>\n",
              "      <td>1</td>\n",
              "    </tr>\n",
              "  </tbody>\n",
              "</table>\n",
              "</div>"
            ],
            "text/plain": [
              "  customer_id      年月  weekday  count\n",
              "0    AS002855  201804        5      4\n",
              "1    AS002855  201805        2      1\n",
              "2    AS002855  201805        5      4\n",
              "3    AS002855  201806        5      5\n",
              "4    AS002855  201807        1      1"
            ]
          },
          "metadata": {},
          "execution_count": 61
        }
      ]
    },
    {
      "cell_type": "code",
      "metadata": {
        "colab": {
          "base_uri": "https://localhost:8080/",
          "height": 204
        },
        "id": "lrZ0k78qS4mz",
        "outputId": "43a4f546-1ceb-4e68-8f4b-adb3aeb836cc"
      },
      "source": [
        "#顧客ごとの各月の最大値を取得し、その最大値が4以上の場合にフラグを立てる\n",
        "uselog_weekday = uselog_weekday.groupby('customer_id', as_index=False).max()[['customer_id', 'count']]\n",
        "uselog_weekday['routine_flg'] = 0\n",
        "uselog_weekday['routine_flg'] = uselog_weekday['routine_flg'].where(uselog_weekday['count']<4, 1)\n",
        "uselog_weekday.head()"
      ],
      "execution_count": 62,
      "outputs": [
        {
          "output_type": "execute_result",
          "data": {
            "text/html": [
              "<div>\n",
              "<style scoped>\n",
              "    .dataframe tbody tr th:only-of-type {\n",
              "        vertical-align: middle;\n",
              "    }\n",
              "\n",
              "    .dataframe tbody tr th {\n",
              "        vertical-align: top;\n",
              "    }\n",
              "\n",
              "    .dataframe thead th {\n",
              "        text-align: right;\n",
              "    }\n",
              "</style>\n",
              "<table border=\"1\" class=\"dataframe\">\n",
              "  <thead>\n",
              "    <tr style=\"text-align: right;\">\n",
              "      <th></th>\n",
              "      <th>customer_id</th>\n",
              "      <th>count</th>\n",
              "      <th>routine_flg</th>\n",
              "    </tr>\n",
              "  </thead>\n",
              "  <tbody>\n",
              "    <tr>\n",
              "      <th>0</th>\n",
              "      <td>AS002855</td>\n",
              "      <td>5</td>\n",
              "      <td>1</td>\n",
              "    </tr>\n",
              "    <tr>\n",
              "      <th>1</th>\n",
              "      <td>AS008805</td>\n",
              "      <td>4</td>\n",
              "      <td>1</td>\n",
              "    </tr>\n",
              "    <tr>\n",
              "      <th>2</th>\n",
              "      <td>AS009013</td>\n",
              "      <td>2</td>\n",
              "      <td>0</td>\n",
              "    </tr>\n",
              "    <tr>\n",
              "      <th>3</th>\n",
              "      <td>AS009373</td>\n",
              "      <td>5</td>\n",
              "      <td>1</td>\n",
              "    </tr>\n",
              "    <tr>\n",
              "      <th>4</th>\n",
              "      <td>AS015233</td>\n",
              "      <td>5</td>\n",
              "      <td>1</td>\n",
              "    </tr>\n",
              "  </tbody>\n",
              "</table>\n",
              "</div>"
            ],
            "text/plain": [
              "  customer_id  count  routine_flg\n",
              "0    AS002855      5            1\n",
              "1    AS008805      4            1\n",
              "2    AS009013      2            0\n",
              "3    AS009373      5            1\n",
              "4    AS015233      5            1"
            ]
          },
          "metadata": {},
          "execution_count": 62
        }
      ]
    },
    {
      "cell_type": "code",
      "metadata": {
        "colab": {
          "base_uri": "https://localhost:8080/",
          "height": 204
        },
        "id": "2IoSs-H_LzBh",
        "outputId": "f7ad3719-0046-44fb-8ab3-3d39d576430a"
      },
      "source": [
        "uselog_weekday.head()"
      ],
      "execution_count": 63,
      "outputs": [
        {
          "output_type": "execute_result",
          "data": {
            "text/html": [
              "<div>\n",
              "<style scoped>\n",
              "    .dataframe tbody tr th:only-of-type {\n",
              "        vertical-align: middle;\n",
              "    }\n",
              "\n",
              "    .dataframe tbody tr th {\n",
              "        vertical-align: top;\n",
              "    }\n",
              "\n",
              "    .dataframe thead th {\n",
              "        text-align: right;\n",
              "    }\n",
              "</style>\n",
              "<table border=\"1\" class=\"dataframe\">\n",
              "  <thead>\n",
              "    <tr style=\"text-align: right;\">\n",
              "      <th></th>\n",
              "      <th>customer_id</th>\n",
              "      <th>count</th>\n",
              "      <th>routine_flg</th>\n",
              "    </tr>\n",
              "  </thead>\n",
              "  <tbody>\n",
              "    <tr>\n",
              "      <th>0</th>\n",
              "      <td>AS002855</td>\n",
              "      <td>5</td>\n",
              "      <td>1</td>\n",
              "    </tr>\n",
              "    <tr>\n",
              "      <th>1</th>\n",
              "      <td>AS008805</td>\n",
              "      <td>4</td>\n",
              "      <td>1</td>\n",
              "    </tr>\n",
              "    <tr>\n",
              "      <th>2</th>\n",
              "      <td>AS009013</td>\n",
              "      <td>2</td>\n",
              "      <td>0</td>\n",
              "    </tr>\n",
              "    <tr>\n",
              "      <th>3</th>\n",
              "      <td>AS009373</td>\n",
              "      <td>5</td>\n",
              "      <td>1</td>\n",
              "    </tr>\n",
              "    <tr>\n",
              "      <th>4</th>\n",
              "      <td>AS015233</td>\n",
              "      <td>5</td>\n",
              "      <td>1</td>\n",
              "    </tr>\n",
              "  </tbody>\n",
              "</table>\n",
              "</div>"
            ],
            "text/plain": [
              "  customer_id  count  routine_flg\n",
              "0    AS002855      5            1\n",
              "1    AS008805      4            1\n",
              "2    AS009013      2            0\n",
              "3    AS009373      5            1\n",
              "4    AS015233      5            1"
            ]
          },
          "metadata": {},
          "execution_count": 63
        }
      ]
    },
    {
      "cell_type": "code",
      "metadata": {
        "colab": {
          "base_uri": "https://localhost:8080/",
          "height": 204
        },
        "id": "RhkppTSAaJjc",
        "outputId": "f475b560-815d-48d5-e923-2879fa7a3a28"
      },
      "source": [
        "#顧客データと利用履歴データを結合する\n",
        "customer_join=pd.merge(customer_join,uselog_customer,on=\"customer_id\",how=\"left\")\n",
        "customer_join=pd.merge(customer_join,uselog_weekday[[\"customer_id\",\"routine_flg\"]],on=\"customer_id\",how=\"left\")\n",
        "customer_join.head()"
      ],
      "execution_count": 64,
      "outputs": [
        {
          "output_type": "execute_result",
          "data": {
            "text/html": [
              "<div>\n",
              "<style scoped>\n",
              "    .dataframe tbody tr th:only-of-type {\n",
              "        vertical-align: middle;\n",
              "    }\n",
              "\n",
              "    .dataframe tbody tr th {\n",
              "        vertical-align: top;\n",
              "    }\n",
              "\n",
              "    .dataframe thead th {\n",
              "        text-align: right;\n",
              "    }\n",
              "</style>\n",
              "<table border=\"1\" class=\"dataframe\">\n",
              "  <thead>\n",
              "    <tr style=\"text-align: right;\">\n",
              "      <th></th>\n",
              "      <th>customer_id</th>\n",
              "      <th>name</th>\n",
              "      <th>class</th>\n",
              "      <th>gender</th>\n",
              "      <th>start_date</th>\n",
              "      <th>end_date</th>\n",
              "      <th>campaign_id</th>\n",
              "      <th>is_deleted</th>\n",
              "      <th>class_name</th>\n",
              "      <th>price</th>\n",
              "      <th>campaign_name</th>\n",
              "      <th>mean</th>\n",
              "      <th>median</th>\n",
              "      <th>max</th>\n",
              "      <th>min</th>\n",
              "      <th>routine_flg</th>\n",
              "    </tr>\n",
              "  </thead>\n",
              "  <tbody>\n",
              "    <tr>\n",
              "      <th>0</th>\n",
              "      <td>OA832399</td>\n",
              "      <td>XXXX</td>\n",
              "      <td>C01</td>\n",
              "      <td>F</td>\n",
              "      <td>2015-05-01</td>\n",
              "      <td>NaT</td>\n",
              "      <td>CA1</td>\n",
              "      <td>0</td>\n",
              "      <td>オールタイム</td>\n",
              "      <td>10500</td>\n",
              "      <td>通常</td>\n",
              "      <td>4.833333</td>\n",
              "      <td>5.0</td>\n",
              "      <td>8</td>\n",
              "      <td>2</td>\n",
              "      <td>1</td>\n",
              "    </tr>\n",
              "    <tr>\n",
              "      <th>1</th>\n",
              "      <td>PL270116</td>\n",
              "      <td>XXXXX</td>\n",
              "      <td>C01</td>\n",
              "      <td>M</td>\n",
              "      <td>2015-05-01</td>\n",
              "      <td>NaT</td>\n",
              "      <td>CA1</td>\n",
              "      <td>0</td>\n",
              "      <td>オールタイム</td>\n",
              "      <td>10500</td>\n",
              "      <td>通常</td>\n",
              "      <td>5.083333</td>\n",
              "      <td>5.0</td>\n",
              "      <td>7</td>\n",
              "      <td>3</td>\n",
              "      <td>1</td>\n",
              "    </tr>\n",
              "    <tr>\n",
              "      <th>2</th>\n",
              "      <td>OA974876</td>\n",
              "      <td>XXXXX</td>\n",
              "      <td>C01</td>\n",
              "      <td>M</td>\n",
              "      <td>2015-05-01</td>\n",
              "      <td>NaT</td>\n",
              "      <td>CA1</td>\n",
              "      <td>0</td>\n",
              "      <td>オールタイム</td>\n",
              "      <td>10500</td>\n",
              "      <td>通常</td>\n",
              "      <td>4.583333</td>\n",
              "      <td>5.0</td>\n",
              "      <td>6</td>\n",
              "      <td>3</td>\n",
              "      <td>1</td>\n",
              "    </tr>\n",
              "    <tr>\n",
              "      <th>3</th>\n",
              "      <td>HD024127</td>\n",
              "      <td>XXXXX</td>\n",
              "      <td>C01</td>\n",
              "      <td>F</td>\n",
              "      <td>2015-05-01</td>\n",
              "      <td>NaT</td>\n",
              "      <td>CA1</td>\n",
              "      <td>0</td>\n",
              "      <td>オールタイム</td>\n",
              "      <td>10500</td>\n",
              "      <td>通常</td>\n",
              "      <td>4.833333</td>\n",
              "      <td>4.5</td>\n",
              "      <td>7</td>\n",
              "      <td>2</td>\n",
              "      <td>1</td>\n",
              "    </tr>\n",
              "    <tr>\n",
              "      <th>4</th>\n",
              "      <td>HD661448</td>\n",
              "      <td>XXXXX</td>\n",
              "      <td>C03</td>\n",
              "      <td>F</td>\n",
              "      <td>2015-05-01</td>\n",
              "      <td>NaT</td>\n",
              "      <td>CA1</td>\n",
              "      <td>0</td>\n",
              "      <td>ナイト</td>\n",
              "      <td>6000</td>\n",
              "      <td>通常</td>\n",
              "      <td>3.916667</td>\n",
              "      <td>4.0</td>\n",
              "      <td>6</td>\n",
              "      <td>1</td>\n",
              "      <td>1</td>\n",
              "    </tr>\n",
              "  </tbody>\n",
              "</table>\n",
              "</div>"
            ],
            "text/plain": [
              "  customer_id   name class gender  ... median max min  routine_flg\n",
              "0    OA832399   XXXX   C01      F  ...    5.0   8   2            1\n",
              "1    PL270116  XXXXX   C01      M  ...    5.0   7   3            1\n",
              "2    OA974876  XXXXX   C01      M  ...    5.0   6   3            1\n",
              "3    HD024127  XXXXX   C01      F  ...    4.5   7   2            1\n",
              "4    HD661448  XXXXX   C03      F  ...    4.0   6   1            1\n",
              "\n",
              "[5 rows x 16 columns]"
            ]
          },
          "metadata": {},
          "execution_count": 64
        }
      ]
    },
    {
      "cell_type": "code",
      "metadata": {
        "colab": {
          "base_uri": "https://localhost:8080/"
        },
        "id": "0JR4AfhCrqRV",
        "outputId": "fde4db05-d155-44cd-fb0a-c23977b71ee0"
      },
      "source": [
        "customer_join.isnull().sum()"
      ],
      "execution_count": 65,
      "outputs": [
        {
          "output_type": "execute_result",
          "data": {
            "text/plain": [
              "customer_id         0\n",
              "name                0\n",
              "class               0\n",
              "gender              0\n",
              "start_date          0\n",
              "end_date         2842\n",
              "campaign_id         0\n",
              "is_deleted          0\n",
              "class_name          0\n",
              "price               0\n",
              "campaign_name       0\n",
              "mean                0\n",
              "median              0\n",
              "max                 0\n",
              "min                 0\n",
              "routine_flg         0\n",
              "dtype: int64"
            ]
          },
          "metadata": {},
          "execution_count": 65
        }
      ]
    },
    {
      "cell_type": "code",
      "metadata": {
        "colab": {
          "base_uri": "https://localhost:8080/",
          "height": 394
        },
        "id": "yJV7TtVVr-hV",
        "outputId": "a13b1a96-86c2-4cf3-cf1f-829594945821"
      },
      "source": [
        "#会計期間を計算する\n",
        "from dateutil.relativedelta import relativedelta\n",
        "customer_join[\"calc_date\"]=customer_join[\"end_date\"]\n",
        "customer_join[\"calc_date\"]=customer_join[\"calc_date\"].fillna(pd.to_datetime(\"20190430\"))\n",
        "customer_join[\"membership_period\"]=0\n",
        "for i in range(len(customer_join)):\n",
        "  delta=relativedelta(customer_join[\"calc_date\"].iloc[i],customer_join[\"start_date\"].iloc[i])\n",
        "  customer_join[\"membership_period\"].iloc[i]=delta.years*12+delta.months\n",
        "customer_join.head()"
      ],
      "execution_count": 66,
      "outputs": [
        {
          "output_type": "stream",
          "text": [
            "/usr/local/lib/python3.7/dist-packages/pandas/core/indexing.py:670: SettingWithCopyWarning: \n",
            "A value is trying to be set on a copy of a slice from a DataFrame\n",
            "\n",
            "See the caveats in the documentation: https://pandas.pydata.org/pandas-docs/stable/user_guide/indexing.html#returning-a-view-versus-a-copy\n",
            "  iloc._setitem_with_indexer(indexer, value)\n"
          ],
          "name": "stderr"
        },
        {
          "output_type": "execute_result",
          "data": {
            "text/html": [
              "<div>\n",
              "<style scoped>\n",
              "    .dataframe tbody tr th:only-of-type {\n",
              "        vertical-align: middle;\n",
              "    }\n",
              "\n",
              "    .dataframe tbody tr th {\n",
              "        vertical-align: top;\n",
              "    }\n",
              "\n",
              "    .dataframe thead th {\n",
              "        text-align: right;\n",
              "    }\n",
              "</style>\n",
              "<table border=\"1\" class=\"dataframe\">\n",
              "  <thead>\n",
              "    <tr style=\"text-align: right;\">\n",
              "      <th></th>\n",
              "      <th>customer_id</th>\n",
              "      <th>name</th>\n",
              "      <th>class</th>\n",
              "      <th>gender</th>\n",
              "      <th>start_date</th>\n",
              "      <th>end_date</th>\n",
              "      <th>campaign_id</th>\n",
              "      <th>is_deleted</th>\n",
              "      <th>class_name</th>\n",
              "      <th>price</th>\n",
              "      <th>campaign_name</th>\n",
              "      <th>mean</th>\n",
              "      <th>median</th>\n",
              "      <th>max</th>\n",
              "      <th>min</th>\n",
              "      <th>routine_flg</th>\n",
              "      <th>calc_date</th>\n",
              "      <th>membership_period</th>\n",
              "    </tr>\n",
              "  </thead>\n",
              "  <tbody>\n",
              "    <tr>\n",
              "      <th>0</th>\n",
              "      <td>OA832399</td>\n",
              "      <td>XXXX</td>\n",
              "      <td>C01</td>\n",
              "      <td>F</td>\n",
              "      <td>2015-05-01</td>\n",
              "      <td>NaT</td>\n",
              "      <td>CA1</td>\n",
              "      <td>0</td>\n",
              "      <td>オールタイム</td>\n",
              "      <td>10500</td>\n",
              "      <td>通常</td>\n",
              "      <td>4.833333</td>\n",
              "      <td>5.0</td>\n",
              "      <td>8</td>\n",
              "      <td>2</td>\n",
              "      <td>1</td>\n",
              "      <td>2019-04-30</td>\n",
              "      <td>47</td>\n",
              "    </tr>\n",
              "    <tr>\n",
              "      <th>1</th>\n",
              "      <td>PL270116</td>\n",
              "      <td>XXXXX</td>\n",
              "      <td>C01</td>\n",
              "      <td>M</td>\n",
              "      <td>2015-05-01</td>\n",
              "      <td>NaT</td>\n",
              "      <td>CA1</td>\n",
              "      <td>0</td>\n",
              "      <td>オールタイム</td>\n",
              "      <td>10500</td>\n",
              "      <td>通常</td>\n",
              "      <td>5.083333</td>\n",
              "      <td>5.0</td>\n",
              "      <td>7</td>\n",
              "      <td>3</td>\n",
              "      <td>1</td>\n",
              "      <td>2019-04-30</td>\n",
              "      <td>47</td>\n",
              "    </tr>\n",
              "    <tr>\n",
              "      <th>2</th>\n",
              "      <td>OA974876</td>\n",
              "      <td>XXXXX</td>\n",
              "      <td>C01</td>\n",
              "      <td>M</td>\n",
              "      <td>2015-05-01</td>\n",
              "      <td>NaT</td>\n",
              "      <td>CA1</td>\n",
              "      <td>0</td>\n",
              "      <td>オールタイム</td>\n",
              "      <td>10500</td>\n",
              "      <td>通常</td>\n",
              "      <td>4.583333</td>\n",
              "      <td>5.0</td>\n",
              "      <td>6</td>\n",
              "      <td>3</td>\n",
              "      <td>1</td>\n",
              "      <td>2019-04-30</td>\n",
              "      <td>47</td>\n",
              "    </tr>\n",
              "    <tr>\n",
              "      <th>3</th>\n",
              "      <td>HD024127</td>\n",
              "      <td>XXXXX</td>\n",
              "      <td>C01</td>\n",
              "      <td>F</td>\n",
              "      <td>2015-05-01</td>\n",
              "      <td>NaT</td>\n",
              "      <td>CA1</td>\n",
              "      <td>0</td>\n",
              "      <td>オールタイム</td>\n",
              "      <td>10500</td>\n",
              "      <td>通常</td>\n",
              "      <td>4.833333</td>\n",
              "      <td>4.5</td>\n",
              "      <td>7</td>\n",
              "      <td>2</td>\n",
              "      <td>1</td>\n",
              "      <td>2019-04-30</td>\n",
              "      <td>47</td>\n",
              "    </tr>\n",
              "    <tr>\n",
              "      <th>4</th>\n",
              "      <td>HD661448</td>\n",
              "      <td>XXXXX</td>\n",
              "      <td>C03</td>\n",
              "      <td>F</td>\n",
              "      <td>2015-05-01</td>\n",
              "      <td>NaT</td>\n",
              "      <td>CA1</td>\n",
              "      <td>0</td>\n",
              "      <td>ナイト</td>\n",
              "      <td>6000</td>\n",
              "      <td>通常</td>\n",
              "      <td>3.916667</td>\n",
              "      <td>4.0</td>\n",
              "      <td>6</td>\n",
              "      <td>1</td>\n",
              "      <td>1</td>\n",
              "      <td>2019-04-30</td>\n",
              "      <td>47</td>\n",
              "    </tr>\n",
              "  </tbody>\n",
              "</table>\n",
              "</div>"
            ],
            "text/plain": [
              "  customer_id   name class  ... routine_flg  calc_date membership_period\n",
              "0    OA832399   XXXX   C01  ...           1 2019-04-30                47\n",
              "1    PL270116  XXXXX   C01  ...           1 2019-04-30                47\n",
              "2    OA974876  XXXXX   C01  ...           1 2019-04-30                47\n",
              "3    HD024127  XXXXX   C01  ...           1 2019-04-30                47\n",
              "4    HD661448  XXXXX   C03  ...           1 2019-04-30                47\n",
              "\n",
              "[5 rows x 18 columns]"
            ]
          },
          "metadata": {},
          "execution_count": 66
        }
      ]
    },
    {
      "cell_type": "code",
      "metadata": {
        "colab": {
          "base_uri": "https://localhost:8080/",
          "height": 297
        },
        "id": "gbsbs1Q4HkkN",
        "outputId": "b0aa989e-85fa-47f4-cb54-80fb6cda2525"
      },
      "source": [
        "#顧客行動の各種統計量を把握する\n",
        "customer_join[[\"mean\",\"median\",\"max\",\"min\"]].describe()"
      ],
      "execution_count": 67,
      "outputs": [
        {
          "output_type": "execute_result",
          "data": {
            "text/html": [
              "<div>\n",
              "<style scoped>\n",
              "    .dataframe tbody tr th:only-of-type {\n",
              "        vertical-align: middle;\n",
              "    }\n",
              "\n",
              "    .dataframe tbody tr th {\n",
              "        vertical-align: top;\n",
              "    }\n",
              "\n",
              "    .dataframe thead th {\n",
              "        text-align: right;\n",
              "    }\n",
              "</style>\n",
              "<table border=\"1\" class=\"dataframe\">\n",
              "  <thead>\n",
              "    <tr style=\"text-align: right;\">\n",
              "      <th></th>\n",
              "      <th>mean</th>\n",
              "      <th>median</th>\n",
              "      <th>max</th>\n",
              "      <th>min</th>\n",
              "    </tr>\n",
              "  </thead>\n",
              "  <tbody>\n",
              "    <tr>\n",
              "      <th>count</th>\n",
              "      <td>4192.000000</td>\n",
              "      <td>4192.000000</td>\n",
              "      <td>4192.000000</td>\n",
              "      <td>4192.000000</td>\n",
              "    </tr>\n",
              "    <tr>\n",
              "      <th>mean</th>\n",
              "      <td>5.333127</td>\n",
              "      <td>5.250596</td>\n",
              "      <td>7.823950</td>\n",
              "      <td>3.041269</td>\n",
              "    </tr>\n",
              "    <tr>\n",
              "      <th>std</th>\n",
              "      <td>1.777533</td>\n",
              "      <td>1.874874</td>\n",
              "      <td>2.168959</td>\n",
              "      <td>1.951565</td>\n",
              "    </tr>\n",
              "    <tr>\n",
              "      <th>min</th>\n",
              "      <td>1.000000</td>\n",
              "      <td>1.000000</td>\n",
              "      <td>1.000000</td>\n",
              "      <td>1.000000</td>\n",
              "    </tr>\n",
              "    <tr>\n",
              "      <th>25%</th>\n",
              "      <td>4.250000</td>\n",
              "      <td>4.000000</td>\n",
              "      <td>7.000000</td>\n",
              "      <td>2.000000</td>\n",
              "    </tr>\n",
              "    <tr>\n",
              "      <th>50%</th>\n",
              "      <td>5.000000</td>\n",
              "      <td>5.000000</td>\n",
              "      <td>8.000000</td>\n",
              "      <td>3.000000</td>\n",
              "    </tr>\n",
              "    <tr>\n",
              "      <th>75%</th>\n",
              "      <td>6.416667</td>\n",
              "      <td>6.500000</td>\n",
              "      <td>9.000000</td>\n",
              "      <td>4.000000</td>\n",
              "    </tr>\n",
              "    <tr>\n",
              "      <th>max</th>\n",
              "      <td>12.000000</td>\n",
              "      <td>12.000000</td>\n",
              "      <td>14.000000</td>\n",
              "      <td>12.000000</td>\n",
              "    </tr>\n",
              "  </tbody>\n",
              "</table>\n",
              "</div>"
            ],
            "text/plain": [
              "              mean       median          max          min\n",
              "count  4192.000000  4192.000000  4192.000000  4192.000000\n",
              "mean      5.333127     5.250596     7.823950     3.041269\n",
              "std       1.777533     1.874874     2.168959     1.951565\n",
              "min       1.000000     1.000000     1.000000     1.000000\n",
              "25%       4.250000     4.000000     7.000000     2.000000\n",
              "50%       5.000000     5.000000     8.000000     3.000000\n",
              "75%       6.416667     6.500000     9.000000     4.000000\n",
              "max      12.000000    12.000000    14.000000    12.000000"
            ]
          },
          "metadata": {},
          "execution_count": 67
        }
      ]
    },
    {
      "cell_type": "code",
      "metadata": {
        "colab": {
          "base_uri": "https://localhost:8080/"
        },
        "id": "b4fL-4jnCoUL",
        "outputId": "d740d000-66e8-47d5-8f13-bb3fb1ddd6f5"
      },
      "source": [
        "customer_join.groupby(\"routine_flg\").count()[\"customer_id\"]"
      ],
      "execution_count": 68,
      "outputs": [
        {
          "output_type": "execute_result",
          "data": {
            "text/plain": [
              "routine_flg\n",
              "0     779\n",
              "1    3413\n",
              "Name: customer_id, dtype: int64"
            ]
          },
          "metadata": {},
          "execution_count": 68
        }
      ]
    },
    {
      "cell_type": "code",
      "metadata": {
        "colab": {
          "base_uri": "https://localhost:8080/",
          "height": 316
        },
        "id": "NSHrcnNKNE6Q",
        "outputId": "686e6acf-6341-4282-faa5-c3212ab927ba"
      },
      "source": [
        "#ヒストグラムの表示\n",
        "import matplotlib.pyplot as plt\n",
        "%matplotlib inline\n",
        "plt.hist(customer_join[\"membership_period\"]) "
      ],
      "execution_count": 69,
      "outputs": [
        {
          "output_type": "execute_result",
          "data": {
            "text/plain": [
              "(array([857., 774., 395., 368., 311., 331., 323., 237., 288., 308.]),\n",
              " array([ 1. ,  5.6, 10.2, 14.8, 19.4, 24. , 28.6, 33.2, 37.8, 42.4, 47. ]),\n",
              " <a list of 10 Patch objects>)"
            ]
          },
          "metadata": {},
          "execution_count": 69
        },
        {
          "output_type": "display_data",
          "data": {
            "image/png": "[encoded data removed]",
            "text/plain": [
              "<Figure size 432x288 with 1 Axes>"
            ]
          },
          "metadata": {
            "needs_background": "light"
          }
        }
      ]
    },
    {
      "cell_type": "code",
      "metadata": {
        "colab": {
          "base_uri": "https://localhost:8080/",
          "height": 297
        },
        "id": "S2iB7CUQNWJH",
        "outputId": "d6d503c6-c4ca-4778-dd01-e00c08fce25a"
      },
      "source": [
        "#退会ユーザーと継続ユーザーの違いの把握\n",
        "customer_end=customer_join.loc[customer_join[\"is_deleted\"]==1]\n",
        "customer_end.describe()"
      ],
      "execution_count": 70,
      "outputs": [
        {
          "output_type": "execute_result",
          "data": {
            "text/html": [
              "<div>\n",
              "<style scoped>\n",
              "    .dataframe tbody tr th:only-of-type {\n",
              "        vertical-align: middle;\n",
              "    }\n",
              "\n",
              "    .dataframe tbody tr th {\n",
              "        vertical-align: top;\n",
              "    }\n",
              "\n",
              "    .dataframe thead th {\n",
              "        text-align: right;\n",
              "    }\n",
              "</style>\n",
              "<table border=\"1\" class=\"dataframe\">\n",
              "  <thead>\n",
              "    <tr style=\"text-align: right;\">\n",
              "      <th></th>\n",
              "      <th>is_deleted</th>\n",
              "      <th>price</th>\n",
              "      <th>mean</th>\n",
              "      <th>median</th>\n",
              "      <th>max</th>\n",
              "      <th>min</th>\n",
              "      <th>routine_flg</th>\n",
              "      <th>membership_period</th>\n",
              "    </tr>\n",
              "  </thead>\n",
              "  <tbody>\n",
              "    <tr>\n",
              "      <th>count</th>\n",
              "      <td>1350.0</td>\n",
              "      <td>1350.000000</td>\n",
              "      <td>1350.000000</td>\n",
              "      <td>1350.000000</td>\n",
              "      <td>1350.000000</td>\n",
              "      <td>1350.000000</td>\n",
              "      <td>1350.000000</td>\n",
              "      <td>1350.000000</td>\n",
              "    </tr>\n",
              "    <tr>\n",
              "      <th>mean</th>\n",
              "      <td>1.0</td>\n",
              "      <td>8595.555556</td>\n",
              "      <td>3.865474</td>\n",
              "      <td>3.621852</td>\n",
              "      <td>6.461481</td>\n",
              "      <td>1.821481</td>\n",
              "      <td>0.456296</td>\n",
              "      <td>8.026667</td>\n",
              "    </tr>\n",
              "    <tr>\n",
              "      <th>std</th>\n",
              "      <td>0.0</td>\n",
              "      <td>1949.163652</td>\n",
              "      <td>1.246385</td>\n",
              "      <td>1.270847</td>\n",
              "      <td>2.584021</td>\n",
              "      <td>0.976361</td>\n",
              "      <td>0.498271</td>\n",
              "      <td>5.033692</td>\n",
              "    </tr>\n",
              "    <tr>\n",
              "      <th>min</th>\n",
              "      <td>1.0</td>\n",
              "      <td>6000.000000</td>\n",
              "      <td>1.000000</td>\n",
              "      <td>1.000000</td>\n",
              "      <td>1.000000</td>\n",
              "      <td>1.000000</td>\n",
              "      <td>0.000000</td>\n",
              "      <td>1.000000</td>\n",
              "    </tr>\n",
              "    <tr>\n",
              "      <th>25%</th>\n",
              "      <td>1.0</td>\n",
              "      <td>6000.000000</td>\n",
              "      <td>3.000000</td>\n",
              "      <td>3.000000</td>\n",
              "      <td>4.000000</td>\n",
              "      <td>1.000000</td>\n",
              "      <td>0.000000</td>\n",
              "      <td>4.000000</td>\n",
              "    </tr>\n",
              "    <tr>\n",
              "      <th>50%</th>\n",
              "      <td>1.0</td>\n",
              "      <td>7500.000000</td>\n",
              "      <td>4.000000</td>\n",
              "      <td>4.000000</td>\n",
              "      <td>7.000000</td>\n",
              "      <td>2.000000</td>\n",
              "      <td>0.000000</td>\n",
              "      <td>7.000000</td>\n",
              "    </tr>\n",
              "    <tr>\n",
              "      <th>75%</th>\n",
              "      <td>1.0</td>\n",
              "      <td>10500.000000</td>\n",
              "      <td>4.666667</td>\n",
              "      <td>4.500000</td>\n",
              "      <td>8.000000</td>\n",
              "      <td>2.000000</td>\n",
              "      <td>1.000000</td>\n",
              "      <td>11.000000</td>\n",
              "    </tr>\n",
              "    <tr>\n",
              "      <th>max</th>\n",
              "      <td>1.0</td>\n",
              "      <td>10500.000000</td>\n",
              "      <td>9.000000</td>\n",
              "      <td>9.000000</td>\n",
              "      <td>13.000000</td>\n",
              "      <td>8.000000</td>\n",
              "      <td>1.000000</td>\n",
              "      <td>23.000000</td>\n",
              "    </tr>\n",
              "  </tbody>\n",
              "</table>\n",
              "</div>"
            ],
            "text/plain": [
              "       is_deleted         price  ...  routine_flg  membership_period\n",
              "count      1350.0   1350.000000  ...  1350.000000        1350.000000\n",
              "mean          1.0   8595.555556  ...     0.456296           8.026667\n",
              "std           0.0   1949.163652  ...     0.498271           5.033692\n",
              "min           1.0   6000.000000  ...     0.000000           1.000000\n",
              "25%           1.0   6000.000000  ...     0.000000           4.000000\n",
              "50%           1.0   7500.000000  ...     0.000000           7.000000\n",
              "75%           1.0  10500.000000  ...     1.000000          11.000000\n",
              "max           1.0  10500.000000  ...     1.000000          23.000000\n",
              "\n",
              "[8 rows x 8 columns]"
            ]
          },
          "metadata": {},
          "execution_count": 70
        }
      ]
    },
    {
      "cell_type": "code",
      "metadata": {
        "colab": {
          "base_uri": "https://localhost:8080/",
          "height": 297
        },
        "id": "fDn5SW0wO2jX",
        "outputId": "ea668bfb-6a3c-46ac-88c9-d37ed102728e"
      },
      "source": [
        "customer_stay=customer_join.loc[customer_join[\"is_deleted\"]==0]\n",
        "customer_stay.describe()"
      ],
      "execution_count": 71,
      "outputs": [
        {
          "output_type": "execute_result",
          "data": {
            "text/html": [
              "<div>\n",
              "<style scoped>\n",
              "    .dataframe tbody tr th:only-of-type {\n",
              "        vertical-align: middle;\n",
              "    }\n",
              "\n",
              "    .dataframe tbody tr th {\n",
              "        vertical-align: top;\n",
              "    }\n",
              "\n",
              "    .dataframe thead th {\n",
              "        text-align: right;\n",
              "    }\n",
              "</style>\n",
              "<table border=\"1\" class=\"dataframe\">\n",
              "  <thead>\n",
              "    <tr style=\"text-align: right;\">\n",
              "      <th></th>\n",
              "      <th>is_deleted</th>\n",
              "      <th>price</th>\n",
              "      <th>mean</th>\n",
              "      <th>median</th>\n",
              "      <th>max</th>\n",
              "      <th>min</th>\n",
              "      <th>routine_flg</th>\n",
              "      <th>membership_period</th>\n",
              "    </tr>\n",
              "  </thead>\n",
              "  <tbody>\n",
              "    <tr>\n",
              "      <th>count</th>\n",
              "      <td>2842.0</td>\n",
              "      <td>2842.000000</td>\n",
              "      <td>2842.000000</td>\n",
              "      <td>2842.000000</td>\n",
              "      <td>2842.000000</td>\n",
              "      <td>2842.000000</td>\n",
              "      <td>2842.000000</td>\n",
              "      <td>2842.000000</td>\n",
              "    </tr>\n",
              "    <tr>\n",
              "      <th>mean</th>\n",
              "      <td>0.0</td>\n",
              "      <td>8542.927516</td>\n",
              "      <td>6.030288</td>\n",
              "      <td>6.024279</td>\n",
              "      <td>8.471147</td>\n",
              "      <td>3.620690</td>\n",
              "      <td>0.984166</td>\n",
              "      <td>23.970443</td>\n",
              "    </tr>\n",
              "    <tr>\n",
              "      <th>std</th>\n",
              "      <td>0.0</td>\n",
              "      <td>1977.189779</td>\n",
              "      <td>1.553587</td>\n",
              "      <td>1.599765</td>\n",
              "      <td>1.571048</td>\n",
              "      <td>2.030488</td>\n",
              "      <td>0.124855</td>\n",
              "      <td>13.746761</td>\n",
              "    </tr>\n",
              "    <tr>\n",
              "      <th>min</th>\n",
              "      <td>0.0</td>\n",
              "      <td>6000.000000</td>\n",
              "      <td>3.166667</td>\n",
              "      <td>3.000000</td>\n",
              "      <td>5.000000</td>\n",
              "      <td>1.000000</td>\n",
              "      <td>0.000000</td>\n",
              "      <td>1.000000</td>\n",
              "    </tr>\n",
              "    <tr>\n",
              "      <th>25%</th>\n",
              "      <td>0.0</td>\n",
              "      <td>6000.000000</td>\n",
              "      <td>4.833333</td>\n",
              "      <td>5.000000</td>\n",
              "      <td>7.000000</td>\n",
              "      <td>2.000000</td>\n",
              "      <td>1.000000</td>\n",
              "      <td>12.000000</td>\n",
              "    </tr>\n",
              "    <tr>\n",
              "      <th>50%</th>\n",
              "      <td>0.0</td>\n",
              "      <td>7500.000000</td>\n",
              "      <td>5.583333</td>\n",
              "      <td>5.500000</td>\n",
              "      <td>8.000000</td>\n",
              "      <td>3.000000</td>\n",
              "      <td>1.000000</td>\n",
              "      <td>24.000000</td>\n",
              "    </tr>\n",
              "    <tr>\n",
              "      <th>75%</th>\n",
              "      <td>0.0</td>\n",
              "      <td>10500.000000</td>\n",
              "      <td>7.178030</td>\n",
              "      <td>7.000000</td>\n",
              "      <td>10.000000</td>\n",
              "      <td>5.000000</td>\n",
              "      <td>1.000000</td>\n",
              "      <td>35.000000</td>\n",
              "    </tr>\n",
              "    <tr>\n",
              "      <th>max</th>\n",
              "      <td>0.0</td>\n",
              "      <td>10500.000000</td>\n",
              "      <td>12.000000</td>\n",
              "      <td>12.000000</td>\n",
              "      <td>14.000000</td>\n",
              "      <td>12.000000</td>\n",
              "      <td>1.000000</td>\n",
              "      <td>47.000000</td>\n",
              "    </tr>\n",
              "  </tbody>\n",
              "</table>\n",
              "</div>"
            ],
            "text/plain": [
              "       is_deleted         price  ...  routine_flg  membership_period\n",
              "count      2842.0   2842.000000  ...  2842.000000        2842.000000\n",
              "mean          0.0   8542.927516  ...     0.984166          23.970443\n",
              "std           0.0   1977.189779  ...     0.124855          13.746761\n",
              "min           0.0   6000.000000  ...     0.000000           1.000000\n",
              "25%           0.0   6000.000000  ...     1.000000          12.000000\n",
              "50%           0.0   7500.000000  ...     1.000000          24.000000\n",
              "75%           0.0  10500.000000  ...     1.000000          35.000000\n",
              "max           0.0  10500.000000  ...     1.000000          47.000000\n",
              "\n",
              "[8 rows x 8 columns]"
            ]
          },
          "metadata": {},
          "execution_count": 71
        }
      ]
    },
    {
      "cell_type": "code",
      "metadata": {
        "id": "Pii5M3F8ReXB"
      },
      "source": [
        "customer_join.to_csv(\"customer_join.csv\",index=False)"
      ],
      "execution_count": 72,
      "outputs": []
    }
  ]
}